{
 "cells": [
  {
   "cell_type": "code",
   "execution_count": 1,
   "id": "8a0847c0",
   "metadata": {},
   "outputs": [],
   "source": [
    "import pandas as pd \n",
    "import numpy as np \n",
    "import matplotlib.pyplot as plt\n",
    "import seaborn as sns\n",
    "import re  \n",
    "import warnings\n",
    "from pathlib import Path\n",
    "warnings.filterwarnings(\"ignore\")\n",
    "%matplotlib inline\n",
    "plt.rcParams['figure.figsize'] = [8,5]\n",
    "plt.rcParams['font.size'] =14\n",
    "plt.rcParams['font.weight']= 'bold'\n",
    "sns.set()"
   ]
  },
  {
   "cell_type": "code",
   "execution_count": 2,
   "id": "898f2bee",
   "metadata": {},
   "outputs": [],
   "source": [
    "import torch \n",
    "import torch.nn as nn\n",
    "import torch.optim as optim\n",
    "import torch.nn.functional as F\n",
    "from torch.utils.data import DataLoader\n",
    "import torchvision.datasets as datasets \n",
    "import torchvision.transforms as tt"
   ]
  },
  {
   "cell_type": "code",
   "execution_count": 3,
   "id": "82166e74",
   "metadata": {},
   "outputs": [],
   "source": [
    "df = pd.read_csv('Downloads/stack-overflow-developer-survey-2021/survey_results_public.csv')"
   ]
  },
  {
   "cell_type": "code",
   "execution_count": 4,
   "id": "5c64b1ab",
   "metadata": {},
   "outputs": [
    {
     "data": {
      "text/plain": [
       "ResponseId                                                                  70549\n",
       "MainBranch                                            I code primarily as a hobby\n",
       "Employment                                                    I prefer not to say\n",
       "Country                                                  United States of America\n",
       "US_State                                                                     Iowa\n",
       "UK_Country                                                                    NaN\n",
       "EdLevel                                                            Something else\n",
       "Age1stCode                                                           5 - 10 years\n",
       "LearnCode                       Other online resources (ex: videos, blogs, etc...\n",
       "YearsCode                                                                       7\n",
       "YearsCodePro                                                                  NaN\n",
       "DevType                                                                       NaN\n",
       "OrgSize                                                                       NaN\n",
       "Currency                                                                      NaN\n",
       "CompTotal                                                                     NaN\n",
       "CompFreq                                                                      NaN\n",
       "LanguageHaveWorkedWith                               Assembly;Bash/Shell;HTML/CSS\n",
       "LanguageWantToWorkWith                 C;JavaScript;Node.js;Python;TypeScript;VBA\n",
       "DatabaseHaveWorkedWith                                                        NaN\n",
       "DatabaseWantToWorkWith                                                        NaN\n",
       "PlatformHaveWorkedWith                                            Microsoft Azure\n",
       "PlatformWantToWorkWith                                            Microsoft Azure\n",
       "WebframeHaveWorkedWith                                                        NaN\n",
       "WebframeWantToWorkWith                                                        NaN\n",
       "MiscTechHaveWorkedWith                                                        NaN\n",
       "MiscTechWantToWorkWith                                                        NaN\n",
       "ToolsTechHaveWorkedWith                                                Docker;Git\n",
       "ToolsTechWantToWorkWith                                  Docker;Git;Unreal Engine\n",
       "NEWCollabToolsHaveWorkedWith    Eclipse;IntelliJ;Notepad++;Visual Studio;Visua...\n",
       "NEWCollabToolsWantToWorkWith     Notepad++;Visual Studio;Visual Studio Code;Xcode\n",
       "OpSys                                                     Other (please specify):\n",
       "NEWStuck                        Visit Stack Overflow;Google it;Do other work a...\n",
       "NEWSOSites                                          Stack Overflow;Stack Exchange\n",
       "SOVisitFreq                                                  A few times per week\n",
       "SOAccount                                                                      No\n",
       "SOPartFreq                                                                    NaN\n",
       "SOComm                                                             No, not really\n",
       "NEWOtherComms                                                                  No\n",
       "Age                                                            Under 18 years old\n",
       "Gender                                                                        Man\n",
       "Trans                                                                          No\n",
       "Sexuality                                                 Straight / Heterosexual\n",
       "Ethnicity                                            White or of European descent\n",
       "Accessibility                                                   None of the above\n",
       "MentalHealth                    I have a concentration and/or memory disorder ...\n",
       "SurveyLength                                                Appropriate in length\n",
       "SurveyEase                                                                   Easy\n",
       "ConvertedCompYearly                                                           NaN\n",
       "Name: 70548, dtype: object"
      ]
     },
     "execution_count": 4,
     "metadata": {},
     "output_type": "execute_result"
    }
   ],
   "source": [
    "df.sample(1).iloc[0]"
   ]
  },
  {
   "cell_type": "code",
   "execution_count": 5,
   "id": "32072ab5",
   "metadata": {},
   "outputs": [],
   "source": [
    "#here i'm choosing the columns, which is contains (;) to make them as a list \n",
    "to_split = df.columns[16:30].tolist()\n",
    "to_split.append('DevType')"
   ]
  },
  {
   "cell_type": "code",
   "execution_count": 6,
   "id": "82a7a099",
   "metadata": {},
   "outputs": [],
   "source": [
    "# i do it like that because i want to split my columns values according to (;) , which is will not\n",
    "# work because the Nan Values\n",
    "df = df.fillna(\"missing\")"
   ]
  },
  {
   "cell_type": "code",
   "execution_count": 7,
   "id": "1df4e739",
   "metadata": {},
   "outputs": [
    {
     "data": {
      "text/plain": [
       "['C#', 'HTML/CSS', 'JavaScript', 'SQL']"
      ]
     },
     "execution_count": 7,
     "metadata": {},
     "output_type": "execute_result"
    }
   ],
   "source": [
    "# check if it will work\n",
    "df[to_split[0]].apply(lambda x : x.split(';')).sample(1).iloc[0]"
   ]
  },
  {
   "cell_type": "code",
   "execution_count": 8,
   "id": "8aaca043",
   "metadata": {},
   "outputs": [],
   "source": [
    "for i in to_split:\n",
    "    df[i] = df[i].apply(lambda x: x.split(';'))"
   ]
  },
  {
   "cell_type": "code",
   "execution_count": 9,
   "id": "09288eba",
   "metadata": {},
   "outputs": [
    {
     "data": {
      "text/plain": [
       "ResponseId                                                                  68770\n",
       "MainBranch                                         I am a developer by profession\n",
       "Employment                                                     Employed full-time\n",
       "Country                                                                    Brazil\n",
       "US_State                                                                  missing\n",
       "UK_Country                                                                missing\n",
       "EdLevel                              Bachelor’s degree (B.A., B.S., B.Eng., etc.)\n",
       "Age1stCode                                                          25 - 34 years\n",
       "LearnCode                       Coding Bootcamp;Other online resources (ex: vi...\n",
       "YearsCode                                                                      10\n",
       "YearsCodePro                                                                    7\n",
       "DevType                                                     [Developer, back-end]\n",
       "OrgSize                                                  10,000 or more employees\n",
       "Currency                                                      BRL\\tBrazilian real\n",
       "CompTotal                                                                 10000.0\n",
       "CompFreq                                                                  Monthly\n",
       "LanguageHaveWorkedWith                                              [Python, SQL]\n",
       "LanguageWantToWorkWith                                              [Python, SQL]\n",
       "DatabaseHaveWorkedWith                       [MariaDB, PostgreSQL, Redis, SQLite]\n",
       "DatabaseWantToWorkWith                                [PostgreSQL, Redis, SQLite]\n",
       "PlatformHaveWorkedWith                                                      [AWS]\n",
       "PlatformWantToWorkWith                                                      [AWS]\n",
       "WebframeHaveWorkedWith                                          [Django, FastAPI]\n",
       "WebframeWantToWorkWith                                          [Django, FastAPI]\n",
       "MiscTechHaveWorkedWith                                                  [missing]\n",
       "MiscTechWantToWorkWith                                                  [missing]\n",
       "ToolsTechHaveWorkedWith                                 [Docker, Git, Kubernetes]\n",
       "ToolsTechWantToWorkWith                                 [Docker, Git, Kubernetes]\n",
       "NEWCollabToolsHaveWorkedWith                                 [Visual Studio Code]\n",
       "NEWCollabToolsWantToWorkWith                                 [Visual Studio Code]\n",
       "OpSys                                                                       MacOS\n",
       "NEWStuck                                           Visit Stack Overflow;Google it\n",
       "NEWSOSites                                                         Stack Overflow\n",
       "SOVisitFreq                                                Multiple times per day\n",
       "SOAccount                                                                      No\n",
       "SOPartFreq                                                                missing\n",
       "SOComm                                                            Yes, definitely\n",
       "NEWOtherComms                                                                 Yes\n",
       "Age                                                               25-34 years old\n",
       "Gender                                                                      Woman\n",
       "Trans                                                                          No\n",
       "Sexuality                                                 Straight / Heterosexual\n",
       "Ethnicity                                            White or of European descent\n",
       "Accessibility                                                   None of the above\n",
       "MentalHealth                                                    None of the above\n",
       "SurveyLength                                                Appropriate in length\n",
       "SurveyEase                                                                   Easy\n",
       "ConvertedCompYearly                                                       27492.0\n",
       "Name: 68769, dtype: object"
      ]
     },
     "execution_count": 9,
     "metadata": {},
     "output_type": "execute_result"
    }
   ],
   "source": [
    "df.sample(1).iloc[0]"
   ]
  },
  {
   "cell_type": "markdown",
   "id": "ac309eba",
   "metadata": {},
   "source": [
    "### I Think it worked will "
   ]
  },
  {
   "cell_type": "code",
   "execution_count": 10,
   "id": "c9b021b0",
   "metadata": {},
   "outputs": [
    {
     "name": "stdout",
     "output_type": "stream",
     "text": [
      "<class 'pandas.core.frame.DataFrame'>\n",
      "RangeIndex: 83439 entries, 0 to 83438\n",
      "Data columns (total 48 columns):\n",
      " #   Column                        Non-Null Count  Dtype \n",
      "---  ------                        --------------  ----- \n",
      " 0   ResponseId                    83439 non-null  int64 \n",
      " 1   MainBranch                    83439 non-null  object\n",
      " 2   Employment                    83439 non-null  object\n",
      " 3   Country                       83439 non-null  object\n",
      " 4   US_State                      83439 non-null  object\n",
      " 5   UK_Country                    83439 non-null  object\n",
      " 6   EdLevel                       83439 non-null  object\n",
      " 7   Age1stCode                    83439 non-null  object\n",
      " 8   LearnCode                     83439 non-null  object\n",
      " 9   YearsCode                     83439 non-null  object\n",
      " 10  YearsCodePro                  83439 non-null  object\n",
      " 11  DevType                       83439 non-null  object\n",
      " 12  OrgSize                       83439 non-null  object\n",
      " 13  Currency                      83439 non-null  object\n",
      " 14  CompTotal                     83439 non-null  object\n",
      " 15  CompFreq                      83439 non-null  object\n",
      " 16  LanguageHaveWorkedWith        83439 non-null  object\n",
      " 17  LanguageWantToWorkWith        83439 non-null  object\n",
      " 18  DatabaseHaveWorkedWith        83439 non-null  object\n",
      " 19  DatabaseWantToWorkWith        83439 non-null  object\n",
      " 20  PlatformHaveWorkedWith        83439 non-null  object\n",
      " 21  PlatformWantToWorkWith        83439 non-null  object\n",
      " 22  WebframeHaveWorkedWith        83439 non-null  object\n",
      " 23  WebframeWantToWorkWith        83439 non-null  object\n",
      " 24  MiscTechHaveWorkedWith        83439 non-null  object\n",
      " 25  MiscTechWantToWorkWith        83439 non-null  object\n",
      " 26  ToolsTechHaveWorkedWith       83439 non-null  object\n",
      " 27  ToolsTechWantToWorkWith       83439 non-null  object\n",
      " 28  NEWCollabToolsHaveWorkedWith  83439 non-null  object\n",
      " 29  NEWCollabToolsWantToWorkWith  83439 non-null  object\n",
      " 30  OpSys                         83439 non-null  object\n",
      " 31  NEWStuck                      83439 non-null  object\n",
      " 32  NEWSOSites                    83439 non-null  object\n",
      " 33  SOVisitFreq                   83439 non-null  object\n",
      " 34  SOAccount                     83439 non-null  object\n",
      " 35  SOPartFreq                    83439 non-null  object\n",
      " 36  SOComm                        83439 non-null  object\n",
      " 37  NEWOtherComms                 83439 non-null  object\n",
      " 38  Age                           83439 non-null  object\n",
      " 39  Gender                        83439 non-null  object\n",
      " 40  Trans                         83439 non-null  object\n",
      " 41  Sexuality                     83439 non-null  object\n",
      " 42  Ethnicity                     83439 non-null  object\n",
      " 43  Accessibility                 83439 non-null  object\n",
      " 44  MentalHealth                  83439 non-null  object\n",
      " 45  SurveyLength                  83439 non-null  object\n",
      " 46  SurveyEase                    83439 non-null  object\n",
      " 47  ConvertedCompYearly           83439 non-null  object\n",
      "dtypes: int64(1), object(47)\n",
      "memory usage: 30.6+ MB\n"
     ]
    }
   ],
   "source": [
    "df.info()"
   ]
  },
  {
   "cell_type": "code",
   "execution_count": 11,
   "id": "042e563f",
   "metadata": {},
   "outputs": [
    {
     "name": "stdout",
     "output_type": "stream",
     "text": [
      "['Less than 1 year' 'More than 50 years']\n",
      "['Less than 1 year' 'More than 50 years']\n"
     ]
    }
   ],
   "source": [
    "#u will notice that there is something wrong in columns (YearsCode,YearsCodePro)\n",
    "#because it can not be Object so, we need to handle it\n",
    "#-------------------------------------------------------------\n",
    "#here that is the hard way to check what's wrong in your data but why i did it ? \n",
    "#if i have many of unique values and i used (column).unique may be i can not see what's wrong \n",
    "#so i decide to generalize my problem so, i used regex to solve it \n",
    "#if u want to use the easy way, u can use df[specific_column].unique() and look for what is happen\n",
    "check_columns = ['YearsCode','YearsCodePro']\n",
    "print(df[~df[check_columns[0]].str.contains('^(\\d+|missing)$')]['YearsCode'].unique())\n",
    "print(df[~df[check_columns[1]].str.contains('^(\\d+|missing)$')]['YearsCodePro'].unique())"
   ]
  },
  {
   "cell_type": "code",
   "execution_count": 12,
   "id": "42a12604",
   "metadata": {},
   "outputs": [],
   "source": [
    "#there is no reason for using 51 instead of 52....etc it just make sense to me \n",
    "map_values = {\n",
    "    'Less than 1 year':'0',\n",
    "    'More than 50 years':'51'\n",
    "}"
   ]
  },
  {
   "cell_type": "code",
   "execution_count": 13,
   "id": "499480b2",
   "metadata": {},
   "outputs": [],
   "source": [
    "for i in check_columns:\n",
    "    df[i] = df[i].apply(lambda x : x if x not in map_values.keys() else map_values[x])\n"
   ]
  },
  {
   "cell_type": "code",
   "execution_count": 14,
   "id": "3cb1b097",
   "metadata": {},
   "outputs": [
    {
     "name": "stdout",
     "output_type": "stream",
     "text": [
      "['missing' '7' '17' '3' '4' '6' '16' '12' '15' '10' '40' '9' '26' '14'\n",
      " '39' '20' '8' '19' '5' '0' '22' '2' '1' '34' '21' '13' '25' '24' '30'\n",
      " '31' '18' '38' '51' '27' '41' '42' '35' '23' '28' '11' '37' '44' '43'\n",
      " '36' '33' '45' '29' '50' '46' '32' '47' '49' '48']\n",
      "['missing' '10' '4' '5' '6' '2' '30' '9' '18' '12' '21' '1' '16' '0' '15'\n",
      " '3' '35' '7' '8' '17' '14' '26' '25' '20' '50' '34' '11' '24' '22' '13'\n",
      " '31' '23' '39' '41' '27' '28' '19' '33' '51' '37' '29' '32' '43' '40'\n",
      " '38' '45' '42' '46' '36' '44' '47' '48' '49']\n"
     ]
    }
   ],
   "source": [
    "for i in check_columns:\n",
    "    print(df[i].unique())"
   ]
  },
  {
   "cell_type": "markdown",
   "id": "92a3e7ae",
   "metadata": {},
   "source": [
    "### seems everything is good"
   ]
  },
  {
   "cell_type": "code",
   "execution_count": 16,
   "id": "e45368e5",
   "metadata": {},
   "outputs": [
    {
     "data": {
      "text/plain": [
       "ResponseId                                                                  16495\n",
       "MainBranch                                         I am a developer by profession\n",
       "Employment                      Independent contractor, freelancer, or self-em...\n",
       "Country                                                                    Turkey\n",
       "US_State                                                                  missing\n",
       "UK_Country                                                                missing\n",
       "EdLevel                              Bachelor’s degree (B.A., B.S., B.Eng., etc.)\n",
       "Age1stCode                                                           5 - 10 years\n",
       "LearnCode                       Other online resources (ex: videos, blogs, etc...\n",
       "YearsCode                                                                      10\n",
       "YearsCodePro                                                                    2\n",
       "DevType                         [Academic researcher, Student, Developer, embe...\n",
       "OrgSize                         Just me - I am a freelancer, sole proprietor, ...\n",
       "Currency                                                        TRY\\tTurkish lira\n",
       "CompTotal                                                                 missing\n",
       "CompFreq                                                                  missing\n",
       "LanguageHaveWorkedWith                                           [C, C++, Matlab]\n",
       "LanguageWantToWorkWith                                                   [C, C++]\n",
       "DatabaseHaveWorkedWith                                                  [missing]\n",
       "DatabaseWantToWorkWith                                                  [missing]\n",
       "PlatformHaveWorkedWith                                                  [missing]\n",
       "PlatformWantToWorkWith                                                  [missing]\n",
       "WebframeHaveWorkedWith                                                  [missing]\n",
       "WebframeWantToWorkWith                                                  [missing]\n",
       "MiscTechHaveWorkedWith                                                  [missing]\n",
       "MiscTechWantToWorkWith                                                  [missing]\n",
       "ToolsTechHaveWorkedWith                                                     [Git]\n",
       "ToolsTechWantToWorkWith                                             [Docker, Git]\n",
       "NEWCollabToolsHaveWorkedWith    [IPython/Jupyter, Visual Studio, Visual Studio...\n",
       "NEWCollabToolsWantToWorkWith    [IPython/Jupyter, Visual Studio, Visual Studio...\n",
       "OpSys                                                                     Windows\n",
       "NEWStuck                        Call a coworker or friend;Visit Stack Overflow...\n",
       "NEWSOSites                                                         Stack Overflow\n",
       "SOVisitFreq                                                  A few times per week\n",
       "SOAccount                                                                     Yes\n",
       "SOPartFreq                                        A few times per month or weekly\n",
       "SOComm                                                              Yes, somewhat\n",
       "NEWOtherComms                                                                 Yes\n",
       "Age                                                               25-34 years old\n",
       "Gender                                                                        Man\n",
       "Trans                                                                          No\n",
       "Sexuality                                                 Straight / Heterosexual\n",
       "Ethnicity                                                          Middle Eastern\n",
       "Accessibility                                                   None of the above\n",
       "MentalHealth                                                    None of the above\n",
       "SurveyLength                                                Appropriate in length\n",
       "SurveyEase                                                                   Easy\n",
       "ConvertedCompYearly                                                       missing\n",
       "Name: 16494, dtype: object"
      ]
     },
     "execution_count": 16,
     "metadata": {},
     "output_type": "execute_result"
    }
   ],
   "source": [
    "#check the whole cahanges\n",
    "df.sample(1).iloc[0]"
   ]
  },
  {
   "cell_type": "code",
   "execution_count": null,
   "id": "41377063",
   "metadata": {},
   "outputs": [],
   "source": []
  }
 ],
 "metadata": {
  "kernelspec": {
   "display_name": "Python 3 (ipykernel)",
   "language": "python",
   "name": "python3"
  },
  "language_info": {
   "codemirror_mode": {
    "name": "ipython",
    "version": 3
   },
   "file_extension": ".py",
   "mimetype": "text/x-python",
   "name": "python",
   "nbconvert_exporter": "python",
   "pygments_lexer": "ipython3",
   "version": "3.7.13"
  }
 },
 "nbformat": 4,
 "nbformat_minor": 5
}
